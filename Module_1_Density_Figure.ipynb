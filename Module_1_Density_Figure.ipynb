{
 "cells": [
  {
   "cell_type": "code",
   "execution_count": null,
   "metadata": {},
   "outputs": [],
   "source": [
    "import pandas as pd\n",
    "import numpy as np\n",
    "import matplotlib.pyplot as plt\n",
    "%matplotlib inline"
   ]
  },
  {
   "cell_type": "code",
   "execution_count": null,
   "metadata": {},
   "outputs": [],
   "source": [
    "def cal_snp_per_gene(df_gene, df_snp):\n",
    "    '''\n",
    "    Compute SNP positions in each gene\n",
    "    input:\n",
    "        df_gene - gene DataFrame\n",
    "        df_snp - SNP DataFrame\n",
    "    ouput:\n",
    "        dic_gene_snp: a dictionary from gene to all its SNPs; key: gene name, value: a list of its SNP positions    \n",
    "    '''\n",
    "      \n",
    "    n_gene, n_snp = len(df_gene), len(df_snp)\n",
    "    \n",
    "    dic_gene_snp = { df_gene['gene'][i] : [] for i in range(n_gene)}\n",
    "    for i in range(n_snp):\n",
    "        chrom, pos = df_snp['chromosome'][i], df_snp['position'][i]\n",
    "        mask = (pos > df_gene['position_left']) & (pos < df_gene['position_right']) \\\n",
    "                & (df_gene['chromosome']==chrom)\n",
    "        \n",
    "        if mask.sum()==1:\n",
    "            gene_name = df_gene['gene'][mask].iloc[0]\n",
    "            dic_gene_snp[ gene_name ].append(pos)\n",
    "            \n",
    "        if (i % (int(len(df_snp) / 10)) == 0):\n",
    "            print(i / (int(len(df_snp) / 100))), \"% complete\")\n",
    "    return dic_gene_snp   "
   ]
  },
  {
   "cell_type": "code",
   "execution_count": null,
   "metadata": {},
   "outputs": [],
   "source": [
    "if __name__=='__main__':\n",
    "    \n",
    "    '''data is from https://github.com/mckenaliphamr/GoGreen/tree/master/sample_data'''\n",
    "    #path_gene_data = 'data\\\\genes_w_features_downsample.csv'\n",
    "    path_gene_data = 'C:/Users/15099/Documents/School/MSU_BMS/Spring_2020/condensed_subset_Davis.csv'\n",
    "    path_snp_data = 'C:/Users/15099/Documents/School/MSU_BMS/Spring_2020/condensed_SNP_subset_Davis.csv'\n",
    "    df_gene = pd.read_csv(path_gene_data, sep='\\t')\n",
    "    df_snp = pd.read_csv(path_snp_data, sep='\\t')\n",
    "    dic_gene_snp = cal_snp_per_gene(df_gene, df_snp)"
   ]
  },
  {
   "cell_type": "code",
   "execution_count": null,
   "metadata": {},
   "outputs": [],
   "source": [
    "#initialize values of density graph as 0\n",
    "density = np.zeros(1000)\n",
    "\n",
    "#loop through each gene and quantify location of SNPs\n",
    "for i in range(len(df_gene)):\n",
    "    \n",
    "    # calculate gene length based off of the difference in position\n",
    "    gene_length = df_gene['position_right'][i] - df_gene['position_left'][i]\n",
    "    \n",
    "    # investigates SNPs in each gene individually\n",
    "    SNPs_each_gene = dic_gene_snp[df_gene['gene'].values[i]]\n",
    "    \n",
    "    # normalizes position of SNPs to gene length and multiplies by 1000 for positioning\n",
    "    SNPs_each_gene = ((SNPs_each_gene - df_gene['position_left'].values[i]) / gene_length) * 1000\n",
    "    \n",
    "    # loop through each g\n",
    "    for j in range(0, len(SNPs_each_gene)):\n",
    "        if (df_gene['Direction'][i]=='-'):\n",
    "            SNPs_each_gene[j] = 1000 - int(SNPs_each_gene[j])\n",
    "        else:\n",
    "            SNPs_each_gene[j] = int(SNPs_each_gene[j])\n",
    "    for j in range(0, len(density)):\n",
    "        if j in SNPs_each_gene:\n",
    "            density[j] = density[j] + 1"
   ]
  },
  {
   "cell_type": "code",
   "execution_count": null,
   "metadata": {},
   "outputs": [],
   "source": [
    "abundancy_normalization = max(density)\n",
    "density_normalized = (density / abundancy_normalization) * 100\n",
    "fig = plt.figure(figsize=(12,7))\n",
    "\n",
    "plt.plot(density_normalized, c='seagreen', linewidth=3.0)\n",
    "plt.xlabel('Relative Position within the Transcript', fontsize=16)\n",
    "plt.ylabel('Comparative SNP Accumulation', fontsize=16)\n",
    "plt.title('SNP Density', fontsize=20)\n",
    "plt.xlim(-4, 1003)"
   ]
  },
  {
   "cell_type": "code",
   "execution_count": null,
   "metadata": {},
   "outputs": [],
   "source": [
    "abundancy_normalization = len(df_gene)\n",
    "density_relative = (density / abundancy_normalization) * 100\n",
    "fig = plt.figure(figsize=(12,7))\n",
    "\n",
    "plt.plot(density_relative, c='seagreen', linewidth=3.0)\n",
    "plt.xlabel('Relative Position within the Transcript', fontsize=16)\n",
    "plt.ylabel('Percent of Transcripts with SNP', fontsize=16)\n",
    "plt.title('SNP Density', fontsize=20)\n",
    "plt.xlim(-4, 1003)\n",
    "plt.ylim(0, 5)"
   ]
  },
  {
   "cell_type": "code",
   "execution_count": null,
   "metadata": {},
   "outputs": [],
   "source": []
  }
 ],
 "metadata": {
  "kernelspec": {
   "display_name": "Python 3",
   "language": "python",
   "name": "python3"
  },
  "language_info": {
   "codemirror_mode": {
    "name": "ipython",
    "version": 3
   },
   "file_extension": ".py",
   "mimetype": "text/x-python",
   "name": "python",
   "nbconvert_exporter": "python",
   "pygments_lexer": "ipython3",
   "version": "3.7.1"
  }
 },
 "nbformat": 4,
 "nbformat_minor": 2
}
