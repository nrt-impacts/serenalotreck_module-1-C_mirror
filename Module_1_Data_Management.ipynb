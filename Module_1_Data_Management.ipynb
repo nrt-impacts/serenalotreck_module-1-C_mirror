{
 "cells": [
  {
   "cell_type": "code",
   "execution_count": 1,
   "metadata": {},
   "outputs": [],
   "source": [
    "import numpy as np\n",
    "import pandas as pd\n",
    "import re"
   ]
  },
  {
   "cell_type": "code",
   "execution_count": 2,
   "metadata": {},
   "outputs": [
    {
     "name": "stderr",
     "output_type": "stream",
     "text": [
      "C:\\Users\\15099\\Downloads\\Programs\\Anaconda\\lib\\site-packages\\IPython\\core\\interactiveshell.py:3020: DtypeWarning: Columns (0) have mixed types. Specify dtype option on import or set low_memory=False.\n",
      "  interactivity=interactivity, compiler=compiler, result=result)\n",
      "C:\\Users\\15099\\Downloads\\Programs\\Anaconda\\lib\\site-packages\\IPython\\core\\interactiveshell.py:3020: DtypeWarning: Columns (1) have mixed types. Specify dtype option on import or set low_memory=False.\n",
      "  interactivity=interactivity, compiler=compiler, result=result)\n"
     ]
    }
   ],
   "source": [
    "# load in all relevant data packages\n",
    "directionality_data = pd.read_csv(\"Zmays_493_RefGen_V4.gene_exons.gff3\", sep='\\t')\n",
    "expression_data = pd.read_csv(\"942_FPKM_B73_genes_w_feature.txt\", sep='\\t')"
   ]
  },
  {
   "cell_type": "code",
   "execution_count": 4,
   "metadata": {},
   "outputs": [],
   "source": [
    "# See format of directionality data\n",
    "# Note: Had to reformat the directionality data from phytozome, removed the header and added my own header\n",
    "\n",
    "# Uncomment below line to view\n",
    "# directionality_data.head()"
   ]
  },
  {
   "cell_type": "code",
   "execution_count": 5,
   "metadata": {},
   "outputs": [],
   "source": [
    "# See format of expression data\n",
    "\n",
    "# Uncomment below line to view\n",
    "# expression_data.head()"
   ]
  },
  {
   "cell_type": "code",
   "execution_count": 6,
   "metadata": {},
   "outputs": [],
   "source": [
    "# remove all data that aren't genes\n",
    "expression_data = expression_data[expression_data['feature_type'] == 'gene']\n",
    "directionality_data = directionality_data[directionality_data['Region'] == 'gene']\n",
    "\n",
    "# remove all data not mapped to a chromosome\n",
    "expression_data = expression_data[pd.to_numeric(expression_data['chromosome'], errors='coerce').notnull()]"
   ]
  },
  {
   "cell_type": "code",
   "execution_count": 7,
   "metadata": {},
   "outputs": [],
   "source": [
    "# Isolate just the gene name from phytozome ID name (formatting data)\n",
    "# ID=Zm00001d027230.RefGen_V4;Name=Zm00001d027230 --> Zm00001d027230\n",
    "ID_name = []\n",
    "for j in directionality_data.ID:\n",
    "    x = re.search('Name=(.+)', j)\n",
    "    ID_name.append(x.group(1))\n",
    "directionality_data.ID = ID_name"
   ]
  },
  {
   "cell_type": "code",
   "execution_count": 8,
   "metadata": {},
   "outputs": [],
   "source": [
    "# Merge data sets into one file\n",
    "merged_data = pd.merge(expression_data, directionality_data, left_on='gene', right_on='ID', how='inner')"
   ]
  },
  {
   "cell_type": "code",
   "execution_count": 9,
   "metadata": {},
   "outputs": [],
   "source": [
    "# Calculate variance between all of the different maize lines\n",
    "merged_data['Variance'] = merged_data.iloc[:,5:947].var(axis=1)"
   ]
  },
  {
   "cell_type": "code",
   "execution_count": 10,
   "metadata": {},
   "outputs": [],
   "source": [
    "finalized = merged_data[['gene','chromosome', 'position_left', 'position_right', 'Direction', 'Variance']]"
   ]
  },
  {
   "cell_type": "code",
   "execution_count": 11,
   "metadata": {},
   "outputs": [
    {
     "data": {
      "text/html": [
       "<div>\n",
       "<style scoped>\n",
       "    .dataframe tbody tr th:only-of-type {\n",
       "        vertical-align: middle;\n",
       "    }\n",
       "\n",
       "    .dataframe tbody tr th {\n",
       "        vertical-align: top;\n",
       "    }\n",
       "\n",
       "    .dataframe thead th {\n",
       "        text-align: right;\n",
       "    }\n",
       "</style>\n",
       "<table border=\"1\" class=\"dataframe\">\n",
       "  <thead>\n",
       "    <tr style=\"text-align: right;\">\n",
       "      <th></th>\n",
       "      <th>gene</th>\n",
       "      <th>chromosome</th>\n",
       "      <th>position_left</th>\n",
       "      <th>position_right</th>\n",
       "      <th>Direction</th>\n",
       "      <th>Variance</th>\n",
       "    </tr>\n",
       "  </thead>\n",
       "  <tbody>\n",
       "    <tr>\n",
       "      <th>0</th>\n",
       "      <td>Zm00001d012719</td>\n",
       "      <td>8</td>\n",
       "      <td>179164454</td>\n",
       "      <td>179168169</td>\n",
       "      <td>-</td>\n",
       "      <td>8.863634</td>\n",
       "    </tr>\n",
       "    <tr>\n",
       "      <th>1</th>\n",
       "      <td>Zm00001d024742</td>\n",
       "      <td>10</td>\n",
       "      <td>85863323</td>\n",
       "      <td>85863746</td>\n",
       "      <td>+</td>\n",
       "      <td>0.002510</td>\n",
       "    </tr>\n",
       "    <tr>\n",
       "      <th>2</th>\n",
       "      <td>Zm00001d025653</td>\n",
       "      <td>10</td>\n",
       "      <td>125107973</td>\n",
       "      <td>125113328</td>\n",
       "      <td>-</td>\n",
       "      <td>7.309110</td>\n",
       "    </tr>\n",
       "    <tr>\n",
       "      <th>3</th>\n",
       "      <td>Zm00001d036003</td>\n",
       "      <td>6</td>\n",
       "      <td>65322472</td>\n",
       "      <td>65323171</td>\n",
       "      <td>+</td>\n",
       "      <td>23.779891</td>\n",
       "    </tr>\n",
       "    <tr>\n",
       "      <th>4</th>\n",
       "      <td>Zm00001d007933</td>\n",
       "      <td>2</td>\n",
       "      <td>243388293</td>\n",
       "      <td>243389628</td>\n",
       "      <td>+</td>\n",
       "      <td>0.061605</td>\n",
       "    </tr>\n",
       "  </tbody>\n",
       "</table>\n",
       "</div>"
      ],
      "text/plain": [
       "             gene chromosome  position_left  position_right Direction  \\\n",
       "0  Zm00001d012719          8      179164454       179168169         -   \n",
       "1  Zm00001d024742         10       85863323        85863746         +   \n",
       "2  Zm00001d025653         10      125107973       125113328         -   \n",
       "3  Zm00001d036003          6       65322472        65323171         +   \n",
       "4  Zm00001d007933          2      243388293       243389628         +   \n",
       "\n",
       "    Variance  \n",
       "0   8.863634  \n",
       "1   0.002510  \n",
       "2   7.309110  \n",
       "3  23.779891  \n",
       "4   0.061605  "
      ]
     },
     "execution_count": 11,
     "metadata": {},
     "output_type": "execute_result"
    }
   ],
   "source": [
    "# View data layout\n",
    "finalized.head()"
   ]
  },
  {
   "cell_type": "code",
   "execution_count": 12,
   "metadata": {},
   "outputs": [],
   "source": [
    "# Transfer\n",
    "finalized.to_csv(\"condensed_subset_Davis.csv\")"
   ]
  },
  {
   "cell_type": "code",
   "execution_count": null,
   "metadata": {},
   "outputs": [],
   "source": []
  }
 ],
 "metadata": {
  "kernelspec": {
   "display_name": "Python 3",
   "language": "python",
   "name": "python3"
  },
  "language_info": {
   "codemirror_mode": {
    "name": "ipython",
    "version": 3
   },
   "file_extension": ".py",
   "mimetype": "text/x-python",
   "name": "python",
   "nbconvert_exporter": "python",
   "pygments_lexer": "ipython3",
   "version": "3.7.1"
  }
 },
 "nbformat": 4,
 "nbformat_minor": 2
}
